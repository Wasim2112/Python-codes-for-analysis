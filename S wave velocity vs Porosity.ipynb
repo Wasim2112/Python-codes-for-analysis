{
 "cells": [
  {
   "cell_type": "code",
   "execution_count": 169,
   "id": "74dfd89e-0bdc-4b82-84b4-91d221a851c9",
   "metadata": {},
   "outputs": [],
   "source": [
    "import pandas as pd\n",
    "import numpy as np\n",
    "import seaborn as sb\n",
    "from pylab import rcParams\n",
    "\n",
    "import scipy\n",
    "from scipy.stats import spearmanr\n",
    "from scipy.stats import fisher_exact\n",
    "\n",
    "import matplotlib.pyplot as plt\n",
    "import scipy.stats as stats\n",
    "from scipy.stats import chi2_contingency"
   ]
  },
  {
   "cell_type": "code",
   "execution_count": 170,
   "id": "cde64a07-9762-4810-af55-64088e5c3a09",
   "metadata": {},
   "outputs": [
    {
     "name": "stdout",
     "output_type": "stream",
     "text": [
      "0       SAMPLE_ID SHORT_ID                   CORE_TYPE LITHO_GROUP  \\\n",
      "0  FZ2-C2-S001-A1       A2  cylindrical core 2 x 4 cm      Altered   \n",
      "1  FZ2-C2-S001-C1       A4  cylindrical core 2 x 4 cm      Altered   \n",
      "2  FZ2-C2-S001-D1       A6  cylindrical core 2 x 4 cm      Altered   \n",
      "3  FZ2-C2-S001-C2       A5  cylindrical core 2 x 4 cm      Altered   \n",
      "7      KUS-015-B1      A19   cylindrical core 2 x 4 cm     Altered   \n",
      "\n",
      "0 Porosity_GTK  Thermal Conductivity (Wet)      L DEN_GTK    VP    VS  \\\n",
      "0      3.344593                      2.254  40.43    2572  5705  2919   \n",
      "1      4.671878                       2.98  41.04    2542  5257  2786   \n",
      "2      6.197819                      2.875  35.28    2547  5373  2633   \n",
      "3      3.119598                      2.687  41.73    2536  5394  2823   \n",
      "7         2.749                       2.99  40.26    2593  5217  2901   \n",
      "\n",
      "0       P/S         AI        SI        NY          E          G          K  \\\n",
      "0  1.954436   14.67326  7.507668  0.322684  57.972923  21.914883  54.491104   \n",
      "1  1.886935  13.363294  7.082012  0.304727  51.485808  19.730485  43.943523   \n",
      "2  2.040638  13.685031  6.706251  0.341982  47.392265  17.657559   49.98626   \n",
      "3  1.910733  13.679184  7.159128  0.311385  53.006751  20.210218  46.838561   \n",
      "7  1.798345  13.527681  7.522293  0.276191  55.698512  21.822172  41.477682   \n",
      "\n",
      "0          M          L  \n",
      "0  83.710948  39.881183  \n",
      "1  70.250837  30.789866  \n",
      "2  73.529672  38.214554  \n",
      "3  73.785518  33.365082  \n",
      "7  70.573912  26.929568  \n"
     ]
    }
   ],
   "source": [
    "df= pd.read_excel(r\"C:\\Users\\Wasim\\OneDrive - Aalto University\\Thesis\\Thesis Project with GTK and for Final Degree\\DATA AND STATISTICAL ANALYSIS\\STATISTICAL ANALYSIS\\Analysis for thesis.xlsx\", sheet_name='Sheet1', header=None)\n",
    "df.columns=df.iloc[0]\n",
    "df=df.drop(0).reset_index(drop=True)\n",
    "df\n",
    "clean_df=df.dropna()\n",
    "print(clean_df.head())"
   ]
  },
  {
   "cell_type": "code",
   "execution_count": 171,
   "id": "29e17a97-e87e-4605-9d40-9d55d85cd0ed",
   "metadata": {},
   "outputs": [
    {
     "name": "stdout",
     "output_type": "stream",
     "text": [
      "Index(['SAMPLE_ID', 'SHORT_ID', 'CORE_TYPE', 'LITHO_GROUP', 'Porosity_GTK ',\n",
      "       'Thermal Conductivity (Wet)', 'L', 'DEN_GTK', 'VP', 'VS', 'P/S', 'AI',\n",
      "       'SI', 'NY', 'E', 'G', 'K', 'M', 'L'],\n",
      "      dtype='object', name=0)\n"
     ]
    }
   ],
   "source": [
    "print(df.columns)"
   ]
  },
  {
   "cell_type": "code",
   "execution_count": 172,
   "id": "aac3eb0e-3826-4ec0-a4f0-8a0293426e4f",
   "metadata": {},
   "outputs": [
    {
     "name": "stdout",
     "output_type": "stream",
     "text": [
      "0      3.344593\n",
      "1      4.671878\n",
      "2      6.197819\n",
      "3      3.119598\n",
      "7         2.749\n",
      "         ...   \n",
      "122       0.554\n",
      "123        0.24\n",
      "124       0.317\n",
      "125       0.395\n",
      "126       0.563\n",
      "Name: Porosity_GTK , Length: 108, dtype: object\n"
     ]
    }
   ],
   "source": [
    "print(clean_df['Porosity_GTK '])"
   ]
  },
  {
   "cell_type": "code",
   "execution_count": 173,
   "id": "8368dbe0-cdb2-4fca-b1af-f170441bdbd5",
   "metadata": {},
   "outputs": [
    {
     "name": "stderr",
     "output_type": "stream",
     "text": [
      "C:\\Users\\Wasim\\AppData\\Local\\Temp\\ipykernel_22488\\1196462124.py:3: UserWarning: Boolean Series key will be reindexed to match DataFrame index.\n",
      "  df_6_9=clean_df[(df['Porosity_GTK ']>=6) & (clean_df['Porosity_GTK ']<=9)]\n"
     ]
    }
   ],
   "source": [
    "df_0_3=clean_df[(clean_df['Porosity_GTK ']>=0) & (clean_df['Porosity_GTK ']<=3)]\n",
    "df_3_6=clean_df[(clean_df['Porosity_GTK ']>=3) & (clean_df['Porosity_GTK ']<=6)]\n",
    "df_6_9=clean_df[(df['Porosity_GTK ']>=6) & (clean_df['Porosity_GTK ']<=9)]\n",
    "df_above_9=clean_df[(clean_df['Porosity_GTK ']>=9)]\n"
   ]
  },
  {
   "cell_type": "code",
   "execution_count": 174,
   "id": "3efabd00-cd7a-4b41-b1b9-87151f892a00",
   "metadata": {},
   "outputs": [],
   "source": [
    "#defining all the data for consideration \n",
    "\n",
    "POROSITY_0_3= (df_0_3['Porosity_GTK '])\n",
    "S_WAVE_0_3=(df_0_3['VS'])\n",
    "POROSITY_3_6= (df_3_6['Porosity_GTK '])\n",
    "S_WAVE_3_6=(df_3_6['VS'])\n",
    "POROSITY_6_9= (df_6_9['Porosity_GTK '])\n",
    "S_WAVE_6_9=(df_6_9['VS'])\n",
    "POROSITY_above_9= (df_above_9['Porosity_GTK '])\n",
    "S_WAVE_above_9=(df_above_9['VS'])\n",
    "POROSITY_COMBINED= (clean_df['Porosity_GTK '])\n",
    "S_WAVE_COMBINED=(clean_df['VS'])\n"
   ]
  },
  {
   "cell_type": "code",
   "execution_count": 175,
   "id": "a17726e0-894e-4bac-bfc5-8b6ad4047403",
   "metadata": {},
   "outputs": [
    {
     "name": "stdout",
     "output_type": "stream",
     "text": [
      "Spearman Rank Correlation Coefficient_0_3= -0.313\n"
     ]
    }
   ],
   "source": [
    "#FOR POROSITY RANGE OF 0--3% Spearman\n",
    "\n",
    "spearmanr_coefficient_0_3, p_value = spearmanr(POROSITY_0_3 , S_WAVE_0_3)\n",
    "print('Spearman Rank Correlation Coefficient_0_3= %0.3f' % (spearmanr_coefficient_0_3))"
   ]
  },
  {
   "cell_type": "code",
   "execution_count": 176,
   "id": "1757c0b3-88c6-4eaf-acd3-a9fd9b8e3700",
   "metadata": {},
   "outputs": [
    {
     "name": "stdout",
     "output_type": "stream",
     "text": [
      "t_statistic_0_3: -2.8915149715362714\n",
      "t_critical_0_3:1.9912543953883843\n",
      "The correlation is statistically significant.\n"
     ]
    }
   ],
   "source": [
    "n_S_WAVE_0_3= len(S_WAVE_0_3)   #number of observations\n",
    "\n",
    "#calculation of test statistic for spearman's\n",
    "t_statistic_0_3=(spearmanr_coefficient_0_3*np.sqrt(n_S_WAVE_0_3-2))/np.sqrt(1-spearmanr_coefficient_0_3**2)\n",
    "\n",
    "print(f't_statistic_0_3: {t_statistic_0_3}')\n",
    "\n",
    "#Determine the critical value from the t-distribution\n",
    "alpha= 0.05 #Significance level\n",
    "\n",
    "df= n_S_WAVE_0_3-2 #degrees of freedom\n",
    "\n",
    "t_critical_0_3=stats.t.ppf(1-alpha/2,df) #two-tailed test\n",
    "print(f't_critical_0_3:{t_critical_0_3}')\n",
    "\n",
    "#Conclusion\n",
    "if abs(t_statistic_0_3)> t_critical_0_3:\n",
    "    print('The correlation is statistically significant.') \n",
    "else:\n",
    "    print('The correlation is not statistically significant.')\n",
    "\n"
   ]
  },
  {
   "cell_type": "code",
   "execution_count": 177,
   "id": "b3b51fe8-9e8e-41a0-b961-5efb6d594722",
   "metadata": {},
   "outputs": [
    {
     "name": "stdout",
     "output_type": "stream",
     "text": [
      "Spearman Rank Correlation Coefficient_3_6= -0.193\n"
     ]
    }
   ],
   "source": [
    "#FOR POROSITY RANGE OF 3---6% Spearman\n",
    "\n",
    "spearmanr_coefficient_3_6, p_value = spearmanr(S_WAVE_3_6,POROSITY_3_6)\n",
    "print('Spearman Rank Correlation Coefficient_3_6= %0.3f' % (spearmanr_coefficient_3_6))"
   ]
  },
  {
   "cell_type": "code",
   "execution_count": 178,
   "id": "83629046-be88-4de8-9365-85c47aa7f41d",
   "metadata": {},
   "outputs": [
    {
     "name": "stdout",
     "output_type": "stream",
     "text": [
      "t_statistic_3_6: -0.7086601029689259\n",
      "t_critical_3_6:2.1603686564610127\n",
      "The correlation is not statistically significant.\n"
     ]
    }
   ],
   "source": [
    "n_S_WAVE_3_6= len(S_WAVE_3_6)   #number of observations\n",
    "\n",
    "#calculation of test statistic for spearman's\n",
    "t_statistic_3_6=(spearmanr_coefficient_3_6*np.sqrt(n_S_WAVE_3_6-2))/np.sqrt(1-spearmanr_coefficient_3_6**2)\n",
    "\n",
    "print(f't_statistic_3_6: {t_statistic_3_6}')\n",
    "\n",
    "#Determine the critical value from the t-distribution\n",
    "alpha= 0.05 #Significance level\n",
    "\n",
    "df= n_S_WAVE_3_6-2 #degrees of freedom\n",
    "\n",
    "t_critical_3_6=stats.t.ppf(1-alpha/2,df) #two-tailed test\n",
    "print(f't_critical_3_6:{t_critical_3_6}')\n",
    "\n",
    "#Conclusion\n",
    "if abs(t_statistic_3_6)> t_critical_3_6:\n",
    "    print('The correlation is statistically significant.') \n",
    "else:\n",
    "    print('The correlation is not statistically significant.')\n"
   ]
  },
  {
   "cell_type": "code",
   "execution_count": 179,
   "id": "3d289790-93e8-4796-aeb2-f5c4947df0cc",
   "metadata": {},
   "outputs": [
    {
     "name": "stdout",
     "output_type": "stream",
     "text": [
      "Spearman Rank Correlation Coefficient_6_9= -0.345\n"
     ]
    }
   ],
   "source": [
    "#FOR POROSITY RANGE OF 6--9% Spearman\n",
    "\n",
    "spearmanr_coefficient_6_9, p_value = spearmanr(S_WAVE_6_9,POROSITY_6_9)\n",
    "print('Spearman Rank Correlation Coefficient_6_9= %0.3f' % (spearmanr_coefficient_6_9))"
   ]
  },
  {
   "cell_type": "code",
   "execution_count": 180,
   "id": "0d9a0fda-a84b-4e4c-b112-7848ca3dae68",
   "metadata": {},
   "outputs": [
    {
     "name": "stdout",
     "output_type": "stream",
     "text": [
      "t_statistic_6_9: -1.041193586267263\n",
      "t_critical_6_9:2.306004135204166\n",
      "The correlation is not statistically significant.\n"
     ]
    }
   ],
   "source": [
    "n_S_WAVE_6_9= len(S_WAVE_6_9)   #number of observations\n",
    "\n",
    "#calculation of test statistic for spearman's\n",
    "t_statistic_6_9=(spearmanr_coefficient_6_9*np.sqrt(n_S_WAVE_6_9-2))/np.sqrt(1-spearmanr_coefficient_6_9**2)\n",
    "\n",
    "print(f't_statistic_6_9: {t_statistic_6_9}')\n",
    "\n",
    "#Determine the critical value from the t-distribution\n",
    "alpha= 0.05 #Significance level\n",
    "\n",
    "df= n_S_WAVE_6_9-2 #degrees of freedom\n",
    "\n",
    "t_critical_6_9=stats.t.ppf(1-alpha/2,df) #two-tailed test\n",
    "print(f't_critical_6_9:{t_critical_6_9}')\n",
    "\n",
    "#Conclusion\n",
    "if abs(t_statistic_6_9)> t_critical_6_9:\n",
    "    print('The correlation is statistically significant.') \n",
    "else:\n",
    "    print('The correlation is not statistically significant.')"
   ]
  },
  {
   "cell_type": "code",
   "execution_count": 181,
   "id": "e48321cb-d3b2-4587-bf0c-2bd48ef98f74",
   "metadata": {},
   "outputs": [
    {
     "name": "stdout",
     "output_type": "stream",
     "text": [
      "Spearman Rank Correlation Coefficient_above_9= -0.400\n"
     ]
    }
   ],
   "source": [
    "#FOR POROSITY RANGE OF above 9% Spearman\n",
    "\n",
    "spearmanr_coefficient_above_9, p_value = spearmanr(S_WAVE_above_9, POROSITY_above_9)\n",
    "print('Spearman Rank Correlation Coefficient_above_9= %0.3f' % (spearmanr_coefficient_above_9))"
   ]
  },
  {
   "cell_type": "code",
   "execution_count": 182,
   "id": "7447a350-bb9c-4d59-8afd-5bfab866915f",
   "metadata": {},
   "outputs": [
    {
     "name": "stdout",
     "output_type": "stream",
     "text": [
      "t_statistic_above_9: -0.6172133998483675\n",
      "t_critical_above_9:4.302652729696142\n",
      "The correlation is not statistically significant.\n"
     ]
    }
   ],
   "source": [
    "n_S_WAVE_above_9= len(S_WAVE_above_9)   #number of observations\n",
    "\n",
    "#calculation of test statistic for spearman's\n",
    "t_statistic_above_9=(spearmanr_coefficient_above_9*np.sqrt(n_S_WAVE_above_9-2))/np.sqrt(1-spearmanr_coefficient_above_9**2)\n",
    "\n",
    "print(f't_statistic_above_9: {t_statistic_above_9}')\n",
    "\n",
    "#Determine the critical value from the t-distribution\n",
    "alpha= 0.05 #Significance level\n",
    "\n",
    "df= n_S_WAVE_above_9-2 #degrees of freedom\n",
    "\n",
    "t_critical_above_9=stats.t.ppf(1-alpha/2,df) #two-tailed test\n",
    "print(f't_critical_above_9:{t_critical_above_9}')\n",
    "\n",
    "#Conclusion\n",
    "if abs(t_statistic_above_9)> t_critical_above_9:\n",
    "    print('The correlation is statistically significant.') \n",
    "else:\n",
    "    print('The correlation is not statistically significant.')"
   ]
  },
  {
   "cell_type": "code",
   "execution_count": 183,
   "id": "57e05704-05fa-419f-b93e-7641e94ba231",
   "metadata": {},
   "outputs": [
    {
     "name": "stdout",
     "output_type": "stream",
     "text": [
      "Spearman Rank Correlation Coefficient_combined= -0.614\n"
     ]
    }
   ],
   "source": [
    "#For combined porosity all porosity \n",
    "\n",
    "spearmanr_coefficient_combined, p_value = spearmanr(S_WAVE_COMBINED, POROSITY_COMBINED)\n",
    "print('Spearman Rank Correlation Coefficient_combined= %0.3f' % (spearmanr_coefficient_combined))"
   ]
  },
  {
   "cell_type": "code",
   "execution_count": 184,
   "id": "70a75cb6-5d6f-4273-83c0-c3ccb86e73b2",
   "metadata": {},
   "outputs": [
    {
     "name": "stdout",
     "output_type": "stream",
     "text": [
      "t_statistic_combined: -8.00912595345785\n",
      "t_critical_combined:1.9825972617102907\n",
      "The correlation is statistically significant.\n"
     ]
    }
   ],
   "source": [
    "n_S_WAVE_combined= len(S_WAVE_COMBINED)   #number of observations\n",
    "\n",
    "#calculation of test statistic for spearman's\n",
    "t_statistic_combined=(spearmanr_coefficient_combined*np.sqrt(n_S_WAVE_combined-2))/np.sqrt(1-spearmanr_coefficient_combined**2)\n",
    "\n",
    "print(f't_statistic_combined: {t_statistic_combined}')\n",
    "\n",
    "#Determine the critical value from the t-distribution\n",
    "alpha= 0.05 #Significance level\n",
    "\n",
    "df= n_S_WAVE_combined-2 #degrees of freedom\n",
    "\n",
    "t_critical_combined=stats.t.ppf(1-alpha/2,df) #two-tailed test\n",
    "print(f't_critical_combined:{t_critical_combined}')\n",
    "\n",
    "#Conclusion\n",
    "if abs(t_statistic_combined)> t_critical_combined:\n",
    "    print('The correlation is statistically significant.') \n",
    "else:\n",
    "    print('The correlation is not statistically significant.')"
   ]
  },
  {
   "cell_type": "code",
   "execution_count": 185,
   "id": "33be8802-769a-44c7-afdc-b737acdfe1e7",
   "metadata": {},
   "outputs": [],
   "source": [
    "#Calculating the minimum and maximum values for the data \n",
    "min_value_S_WAVE_0_3=min(S_WAVE_0_3)\n",
    "max_value_S_WAVE_0_3=max(S_WAVE_0_3)\n",
    "\n",
    "#number of bins\n",
    "num_bins=3\n",
    "#calculate the bin edges\n",
    "bins = np.linspace(min_value_S_WAVE_0_3, max_value_S_WAVE_0_3, num_bins + 1)\n",
    "\n",
    "#bin the values\n",
    "S_WAVE_0_3_binned = pd.cut(S_WAVE_0_3, bins=bins, duplicates='drop')\n",
    "\n",
    "min_value_POROSITY_0_3=min(POROSITY_0_3)\n",
    "max_value_POROSITY_0_3=max(POROSITY_0_3)\n",
    "#number of bins\n",
    "num_bins=3 \n",
    "#calculate the bin edges\n",
    "bins = np.linspace(min_value_POROSITY_0_3, max_value_POROSITY_0_3, num_bins + 1)\n",
    "#bin the values\n",
    "POROSITY_0_3_binned = pd.cut(POROSITY_0_3, bins=bins, duplicates='drop')"
   ]
  },
  {
   "cell_type": "code",
   "execution_count": 186,
   "id": "e41d0f4e-7f3b-4fbe-8370-c998ef1fc0c7",
   "metadata": {},
   "outputs": [],
   "source": [
    "#Calculating the minimum and maximum values for the data \n",
    "min_value_S_WAVE_3_6=min(S_WAVE_3_6)\n",
    "max_value_S_WAVE_3_6=max(S_WAVE_3_6)\n",
    "#number of bins\n",
    "num_bins=3 \n",
    "\n",
    "#calculate the bin edges\n",
    "bins = np.linspace(min_value_S_WAVE_3_6, max_value_S_WAVE_3_6, num_bins + 1)\n",
    "#bin the values\n",
    "S_WAVE_3_6_binned = pd.cut(S_WAVE_3_6, bins=bins, duplicates='drop')\n",
    "\n",
    "min_value_POROSITY_3_6=min(POROSITY_3_6)\n",
    "max_value_POROSITY_3_6=max(POROSITY_3_6)\n",
    "\n",
    "num_bins=3 \n",
    "\n",
    "#calculate the bin edges\n",
    "bins = np.linspace(min_value_POROSITY_3_6, max_value_POROSITY_3_6, num_bins + 1)\n",
    "\n",
    "#bin the values\n",
    "POROSITY_3_6_binned = pd.cut(POROSITY_3_6, bins=bins, duplicates='drop')\n"
   ]
  },
  {
   "cell_type": "code",
   "execution_count": 187,
   "id": "46dc77e1-78a6-465a-8848-abeb8e44d75a",
   "metadata": {},
   "outputs": [],
   "source": [
    "#Calculating the minimum and maximum values for the data \n",
    "min_value_S_WAVE_6_9=min(S_WAVE_6_9)\n",
    "max_value_S_WAVE_6_9=max(S_WAVE_6_9)\n",
    "#number of bins\n",
    "num_bins=3 \n",
    "#calculate the bin edges\n",
    "bins = np.linspace(min_value_S_WAVE_6_9, max_value_S_WAVE_6_9, num_bins + 1)\n",
    "#bin the values\n",
    "S_WAVE_6_9_binned = pd.cut(S_WAVE_6_9, bins=bins, duplicates='drop')\n",
    "\n",
    "min_value_POROSITY_6_9=min(POROSITY_6_9)\n",
    "max_value_POROSITY_6_9=max(POROSITY_6_9)\n",
    "\n",
    "num_bins=3\n",
    "#calculate the bin edges\n",
    "bins = np.linspace(min_value_POROSITY_6_9, max_value_POROSITY_6_9, num_bins + 1)\n",
    "#bin the values\n",
    "POROSITY_6_9_binned = pd.cut(POROSITY_6_9, bins=bins, duplicates='drop')"
   ]
  },
  {
   "cell_type": "code",
   "execution_count": 188,
   "id": "bd5208a5-a900-4786-aecb-8ea9e807a314",
   "metadata": {},
   "outputs": [],
   "source": [
    "#Calculating the minimum and maximum values for the data \n",
    "min_value_S_WAVE_above_9=min(S_WAVE_above_9)\n",
    "max_value_S_WAVE_above_9=max(S_WAVE_above_9)\n",
    "#number of bins\n",
    "num_bins=3 \n",
    "#calculate the bin edges\n",
    "bins = np.linspace(min_value_S_WAVE_above_9, max_value_S_WAVE_above_9, num_bins + 1)\n",
    "#bin the values\n",
    "S_WAVE_above_9_binned = pd.cut(S_WAVE_above_9, bins=bins, duplicates='drop')\n",
    "\n",
    "min_value_POROSITY_above_9=min(POROSITY_above_9)\n",
    "max_value_POROSITY_above_9=max(POROSITY_above_9)\n",
    "\n",
    "#number of bins\n",
    "num_bins=3\n",
    "#calculate the bin edges\n",
    "bins = np.linspace(min_value_POROSITY_above_9, max_value_POROSITY_above_9, num_bins + 1)\n",
    "#bin the values\n",
    "POROSITY_above_9_binned = pd.cut(POROSITY_above_9, bins=bins, duplicates='drop')"
   ]
  },
  {
   "cell_type": "code",
   "execution_count": 189,
   "id": "73419cd2-6211-4eba-974c-eba234e094f8",
   "metadata": {},
   "outputs": [],
   "source": [
    "#Calculating the minimum and maximum values for the data \n",
    "min_value_S_WAVE_COMBINED = min(S_WAVE_COMBINED)\n",
    "max_value_S_WAVE_COMBINED=max(S_WAVE_COMBINED)\n",
    "#number of bins\n",
    "num_bins=3 \n",
    "#calculate the bin edges\n",
    "bins = np.linspace(min_value_S_WAVE_COMBINED, max_value_S_WAVE_COMBINED, num_bins + 1)\n",
    "#bin the values\n",
    "S_WAVE_COMBINED_binned = pd.cut(S_WAVE_COMBINED, bins=bins, duplicates='drop')\n",
    "\n",
    "min_value_POROSITY_COMBINED=min(POROSITY_COMBINED)\n",
    "max_value_POROSITY_COMBINED=max(POROSITY_COMBINED)\n",
    "\n",
    "#number of bins\n",
    "num_bins=3\n",
    "#calculate the bin edges\n",
    "bins = np.linspace(min_value_POROSITY_COMBINED, max_value_POROSITY_COMBINED, num_bins + 1)\n",
    "#bin the values\n",
    "POROSITY_COMBINED_binned = pd.cut(POROSITY_COMBINED, bins=bins, duplicates='drop')"
   ]
  },
  {
   "cell_type": "code",
   "execution_count": 190,
   "id": "49002993-82dc-416c-af87-1a3093cc1362",
   "metadata": {},
   "outputs": [
    {
     "name": "stdout",
     "output_type": "stream",
     "text": [
      "Chi-square Statistics 0_3= 6.931 p_value 0_3= 0.140\n"
     ]
    }
   ],
   "source": [
    "#FOR POROSITY RANGE OF 0--3% Chi\n",
    "\n",
    "table_0_3 = pd.crosstab(S_WAVE_0_3_binned, POROSITY_0_3_binned)\n",
    "from scipy.stats import chi2_contingency\n",
    "chi2_0_3, p_0_3, dof, expected = chi2_contingency (table_0_3.values)\n",
    "print('Chi-square Statistics 0_3= %0.3f p_value 0_3= %0.3f' % (chi2_0_3,p_0_3))"
   ]
  },
  {
   "cell_type": "code",
   "execution_count": 191,
   "id": "89b4e132-c8a5-4784-8b86-0fb1b2bf4898",
   "metadata": {},
   "outputs": [
    {
     "name": "stdout",
     "output_type": "stream",
     "text": [
      "Chi-Square Statistics 0_3:6.930589219759927\n",
      "Number of rows:3\n",
      "Number of columns:3\n",
      "Degrees of Freedom:4\n",
      "Critical value for 0_3:9.487729036781154\n",
      "The correlation is not statistically significant.\n"
     ]
    }
   ],
   "source": [
    "print (f'Chi-Square Statistics 0_3:{chi2_0_3}')\n",
    "\n",
    "rows, columns = table_0_3.shape\n",
    "print(f'Number of rows:{rows}')\n",
    "print(f'Number of columns:{columns}')\n",
    "\n",
    "#calculating the critical value\n",
    "alpha_chi2= 0.05 #significance level\n",
    "df_0_3=(rows-1)*(columns-1)\n",
    "print(f'Degrees of Freedom:{df_0_3}')\n",
    "chi2_critical_0_3= stats.chi2.ppf(1-alpha_chi2,df_0_3)\n",
    "print (f'Critical value for 0_3:{chi2_critical_0_3}')\n",
    "\n",
    "#Conclusion\n",
    "if abs(chi2_0_3)>chi2_critical_0_3 :\n",
    "    print('The correlation is statistically significant.') \n",
    "else:\n",
    "    print('The correlation is not statistically significant.')"
   ]
  },
  {
   "cell_type": "code",
   "execution_count": 192,
   "id": "b15ce191-7afb-469d-b741-06cd10425d2c",
   "metadata": {},
   "outputs": [
    {
     "name": "stdout",
     "output_type": "stream",
     "text": [
      "Chi-square Statistics 3_6= 8.976 p_value_3_6 0.062\n"
     ]
    }
   ],
   "source": [
    "#FOR POROSITY RANGE OF 3--6% Chi\n",
    "\n",
    "table_3_6 = pd.crosstab(S_WAVE_3_6_binned,POROSITY_3_6_binned)\n",
    "from scipy.stats import chi2_contingency\n",
    "chi2_3_6, p, dof, expected = chi2_contingency (table_3_6.values)\n",
    "print('Chi-square Statistics 3_6= %0.3f p_value_3_6 %0.3f' % (chi2_3_6,p))"
   ]
  },
  {
   "cell_type": "code",
   "execution_count": 193,
   "id": "dc9dd0c3-2f24-4d6b-a759-0073ac845ffd",
   "metadata": {},
   "outputs": [
    {
     "name": "stdout",
     "output_type": "stream",
     "text": [
      "Chi-Square Statistics 3_6:8.976190476190474\n",
      "Number of rows:3\n",
      "Number of columns:3\n",
      "Degrees of Freedom:4\n",
      "Critical value for 3_6:9.487729036781154\n",
      "The correlation is not statistically significant.\n"
     ]
    }
   ],
   "source": [
    "print (f'Chi-Square Statistics 3_6:{chi2_3_6}')\n",
    "\n",
    "rows, columns = table_3_6.shape\n",
    "print(f'Number of rows:{rows}')\n",
    "print(f'Number of columns:{columns}')\n",
    "\n",
    "#calculating the critical value\n",
    "alpha_chi2= 0.05 #significance level\n",
    "df_3_6=(rows-1)*(columns-1)\n",
    "print(f'Degrees of Freedom:{df_3_6}')\n",
    "chi2_critical_3_6= stats.chi2.ppf(1-alpha_chi2,df_3_6)\n",
    "print (f'Critical value for 3_6:{chi2_critical_3_6}')\n",
    "\n",
    "#Conclusion\n",
    "if abs(chi2_3_6)>chi2_critical_3_6 :\n",
    "    print('The correlation is statistically significant.') \n",
    "else:\n",
    "    print('The correlation is not statistically significant.')"
   ]
  },
  {
   "cell_type": "code",
   "execution_count": 194,
   "id": "4c72e8ac-9110-4372-9a20-fd3c03d60ce2",
   "metadata": {},
   "outputs": [
    {
     "name": "stdout",
     "output_type": "stream",
     "text": [
      "Chi-square Statistics 1.667 p_value 0.797\n"
     ]
    }
   ],
   "source": [
    "#FOR POROSITY RANGE OF 6--9% Chi\n",
    "\n",
    "table_6_9 = pd.crosstab(S_WAVE_6_9_binned, POROSITY_6_9_binned)\n",
    "from scipy.stats import chi2_contingency\n",
    "chi2_6_9, p_6_9, dof, expected = chi2_contingency (table_6_9.values)\n",
    "print('Chi-square Statistics %0.3f p_value %0.3f' % (chi2_6_9,p_6_9))"
   ]
  },
  {
   "cell_type": "code",
   "execution_count": 195,
   "id": "a1a2a957-aece-4ff5-aec1-c3dbf7a0d5f5",
   "metadata": {},
   "outputs": [
    {
     "name": "stdout",
     "output_type": "stream",
     "text": [
      "Chi-Square Statistics 3_6:1.6666666666666667\n",
      "Number of rows:3\n",
      "Number of columns:3\n",
      "Degrees of Freedom:4\n",
      "Critical value for 6_9:9.487729036781154\n",
      "The correlation is not statistically significant.\n"
     ]
    }
   ],
   "source": [
    "print (f'Chi-Square Statistics 3_6:{chi2_6_9}')\n",
    "\n",
    "rows, columns = table_6_9.shape\n",
    "print(f'Number of rows:{rows}')\n",
    "print(f'Number of columns:{columns}')\n",
    "\n",
    "#calculating the critical value\n",
    "alpha_chi2= 0.05 #significance level\n",
    "df_6_9=(rows-1)*(columns-1)\n",
    "print(f'Degrees of Freedom:{df_6_9}')\n",
    "chi2_critical_6_9= stats.chi2.ppf(1-alpha_chi2,df_6_9)\n",
    "print (f'Critical value for 6_9:{chi2_critical_6_9}')\n",
    "\n",
    "#Conclusion\n",
    "if abs(chi2_6_9)>chi2_critical_6_9 :\n",
    "    print('The correlation is statistically significant.') \n",
    "else:\n",
    "    print('The correlation is not statistically significant.')"
   ]
  },
  {
   "cell_type": "code",
   "execution_count": 196,
   "id": "bf1b66ce-0565-4659-81a7-11111b1c07fa",
   "metadata": {},
   "outputs": [
    {
     "name": "stdout",
     "output_type": "stream",
     "text": [
      "Chi-square Statistics above_9 0.000 p_value_above_9 1.000\n"
     ]
    }
   ],
   "source": [
    "#FOR POROSITY RANGE OF above 9% Chi\n",
    "\n",
    "table_above_9 = pd.crosstab(S_WAVE_above_9_binned, POROSITY_above_9_binned)\n",
    "from scipy.stats import chi2_contingency\n",
    "chi2_above_9, p_above_9, dof, expected = chi2_contingency (table_above_9.values)\n",
    "print('Chi-square Statistics above_9 %0.3f p_value_above_9 %0.3f' % (chi2_above_9,p_above_9))"
   ]
  },
  {
   "cell_type": "code",
   "execution_count": 197,
   "id": "03a79fa5-4446-4981-aa73-a130b5e416df",
   "metadata": {},
   "outputs": [
    {
     "name": "stdout",
     "output_type": "stream",
     "text": [
      "Chi-Square Statistics above 9:0.0\n",
      "Number of rows:1\n",
      "Number of columns:2\n",
      "Degrees of Freedom:0\n",
      "Critical value for above_9:nan\n",
      "The correlation is not statistically significant.\n"
     ]
    }
   ],
   "source": [
    "print (f'Chi-Square Statistics above 9:{chi2_above_9}')\n",
    "\n",
    "rows, columns = table_above_9.shape\n",
    "print(f'Number of rows:{rows}')\n",
    "print(f'Number of columns:{columns}')\n",
    "\n",
    "#calculating the critical value\n",
    "alpha_chi2= 0.05 #significance level\n",
    "df_above_9=(rows-1)*(columns-1)\n",
    "print(f'Degrees of Freedom:{df_above_9}')\n",
    "chi2_critical_above_9= stats.chi2.ppf(1-alpha_chi2,df_above_9)\n",
    "print (f'Critical value for above_9:{chi2_critical_above_9}')\n",
    "\n",
    "#Conclusion\n",
    "if abs(chi2_above_9)>chi2_critical_above_9 :\n",
    "    print('The correlation is statistically significant.') \n",
    "else:\n",
    "    print('The correlation is not statistically significant.')"
   ]
  },
  {
   "cell_type": "code",
   "execution_count": 198,
   "id": "4cf296d4-594a-4996-9c3a-061676936091",
   "metadata": {},
   "outputs": [
    {
     "name": "stdout",
     "output_type": "stream",
     "text": [
      "Chi-square Statistics combined 41.076 p_value combined 0.000\n"
     ]
    }
   ],
   "source": [
    "#FOR ALL POROSITY RANGE\n",
    "\n",
    "table_combined = pd.crosstab(S_WAVE_COMBINED_binned, POROSITY_COMBINED_binned)\n",
    "from scipy.stats import chi2_contingency\n",
    "chi2_combined, p_combined, dof, expected = chi2_contingency (table_combined.values)\n",
    "print('Chi-square Statistics combined %0.3f p_value combined %0.3f' % (chi2_combined,p_combined))"
   ]
  },
  {
   "cell_type": "code",
   "execution_count": 199,
   "id": "0211bd16-1d27-4b73-b84a-fc61ca3cfdba",
   "metadata": {},
   "outputs": [
    {
     "name": "stdout",
     "output_type": "stream",
     "text": [
      "Chi-Square Statistics combined:41.07605030838727\n",
      "Number of rows:3\n",
      "Number of columns:3\n",
      "Degrees of Freedom:4\n",
      "Critical value for combined:9.487729036781154\n",
      "The correlation is statistically significant.\n"
     ]
    }
   ],
   "source": [
    "print (f'Chi-Square Statistics combined:{chi2_combined}')\n",
    "\n",
    "rows, columns = table_combined.shape\n",
    "print(f'Number of rows:{rows}')\n",
    "print(f'Number of columns:{columns}')\n",
    "\n",
    "#calculating the critical value\n",
    "alpha_chi2= 0.05 #significance level\n",
    "df_combined=(rows-1)*(columns-1)\n",
    "print(f'Degrees of Freedom:{df_combined}')\n",
    "chi2_critical_combined= stats.chi2.ppf(1-alpha_chi2,df_combined)\n",
    "print (f'Critical value for combined:{chi2_critical_combined}')\n",
    "\n",
    "#Conclusion\n",
    "if abs(chi2_combined)>chi2_critical_combined :\n",
    "    print('The correlation is statistically significant.') \n",
    "else:\n",
    "    print('The correlation is not statistically significant.')"
   ]
  },
  {
   "cell_type": "code",
   "execution_count": 200,
   "id": "5c4358bf-ef4a-44d7-8a15-0efa27dd7a6b",
   "metadata": {},
   "outputs": [],
   "source": [
    "#Fisher exact tests THRESHOLDS FOR VARIABLES\n",
    "\n",
    "POROSITY_0_3_threshold = np.median(POROSITY_0_3)\n",
    "S_WAVE_0_3_threshold = np.median(S_WAVE_0_3)\n",
    "\n",
    "POROSITY_3_6_threshold = np.median(POROSITY_3_6)\n",
    "S_WAVE_3_6_threshold = np.median(S_WAVE_3_6)\n",
    "\n",
    "POROSITY_6_9_threshold = np.median(POROSITY_6_9)\n",
    "S_WAVE_6_9_threshold = np.median(S_WAVE_6_9)\n",
    "\n",
    "POROSITY_above_9_threshold = np.median(POROSITY_above_9)\n",
    "S_WAVE_above_9_threshold = np.median(S_WAVE_above_9)\n",
    "\n",
    "POROSITY_COMBINED_threshold = np.median(POROSITY_COMBINED)\n",
    "S_WAVE_COMBINED_threshold = np.median(S_WAVE_COMBINED)"
   ]
  },
  {
   "cell_type": "code",
   "execution_count": 201,
   "id": "4adf649f-866c-4c73-a773-49cbd1658df3",
   "metadata": {},
   "outputs": [],
   "source": [
    "#cateogorzing the data into high (1) and low (0)\n",
    "\n",
    "POROSITY_0_3=np.array([1 if p > POROSITY_0_3_threshold  else 0 for p in POROSITY_0_3 ])\n",
    "S_WAVE_0_3=np.array([1 if d > S_WAVE_0_3_threshold  else 0 for d in S_WAVE_0_3])\n",
    "\n",
    "POROSITY_3_6=np.array([1 if p > POROSITY_3_6_threshold  else 0 for p in POROSITY_3_6 ])\n",
    "S_WAVE_3_6=np.array([1 if d > S_WAVE_3_6_threshold  else 0 for d in S_WAVE_3_6])\n",
    "\n",
    "POROSITY_6_9=np.array([1 if p > POROSITY_6_9_threshold  else 0 for p in POROSITY_6_9 ])\n",
    "S_WAVE_6_9=np.array([1 if d > S_WAVE_6_9_threshold  else 0 for d in S_WAVE_6_9])\n",
    "\n",
    "POROSITY_above_9=np.array([1 if p > POROSITY_above_9_threshold  else 0 for p in POROSITY_above_9])\n",
    "S_WAVE_above_9=np.array([1 if d > S_WAVE_above_9_threshold  else 0 for d in S_WAVE_above_9])\n",
    "\n",
    "POROSITY_COMBINED=np.array([1 if p > POROSITY_COMBINED_threshold  else 0 for p in POROSITY_COMBINED])\n",
    "S_WAVE_COMBINED=np.array([1 if d > S_WAVE_COMBINED_threshold  else 0 for d in S_WAVE_COMBINED])\n"
   ]
  },
  {
   "cell_type": "code",
   "execution_count": 202,
   "id": "ca4225e7-123d-4594-86e2-913ca7b74cfc",
   "metadata": {},
   "outputs": [],
   "source": [
    "# Fisher exact test does not produces a traditional test statistics like t,z,or chi square values.\n",
    "# instead it provides a direct probability value based on the exact calculation from the data. \n",
    "# As there is no statistical values from this test, there is no critical value also to compare this with. \n",
    "# The p value it self is compared with the significane value of our choice which is 0.05 in our case. "
   ]
  },
  {
   "cell_type": "code",
   "execution_count": 203,
   "id": "251699f5-a757-4b66-908d-6f000a0323e7",
   "metadata": {},
   "outputs": [
    {
     "name": "stdout",
     "output_type": "stream",
     "text": [
      "p-value (scipy): 0.3710896231297408\n"
     ]
    }
   ],
   "source": [
    "#creating contigency table for each porosity range, then applying Fisher exact test for each range\n",
    "\n",
    "#0-3%\n",
    "contingency_table_0_3 = [\n",
    "    [np.sum((POROSITY_0_3 == 1) & (S_WAVE_0_3 == 1)),\n",
    "      np.sum((POROSITY_0_3 == 1) & (S_WAVE_0_3 == 0))],\n",
    "    [np.sum((POROSITY_0_3 == 0) & ( S_WAVE_0_3== 1)),\n",
    "     np.sum(( POROSITY_0_3== 0) & (S_WAVE_0_3 == 0))]\n",
    "]\n",
    "\n",
    "#Fisher exact test\n",
    "odds_ratio, p_value = fisher_exact(contingency_table_0_3)\n",
    "odds_ratio, p_value\n",
    "print('p-value (scipy):',p_value)"
   ]
  },
  {
   "cell_type": "code",
   "execution_count": 204,
   "id": "448b2d3b-1c43-48f6-ad79-78d9442c1da0",
   "metadata": {},
   "outputs": [
    {
     "name": "stdout",
     "output_type": "stream",
     "text": [
      "p-value (scipy): 1.0\n"
     ]
    }
   ],
   "source": [
    "#3-6%\n",
    "contingency_table_3_6 = [\n",
    "    [np.sum((POROSITY_3_6 == 1) & (S_WAVE_3_6 == 1)),\n",
    "      np.sum((POROSITY_3_6 == 1) & (S_WAVE_3_6 == 0))],\n",
    "    [np.sum((POROSITY_3_6 == 0) & ( S_WAVE_3_6== 1)),\n",
    "     np.sum((POROSITY_3_6== 0) & (S_WAVE_3_6 == 0))]\n",
    "]\n",
    "\n",
    "#Fisher exact test\n",
    "odds_ratio, p_value = fisher_exact(contingency_table_3_6)\n",
    "odds_ratio, p_value\n",
    "print('p-value (scipy):',p_value)"
   ]
  },
  {
   "cell_type": "code",
   "execution_count": 205,
   "id": "d852decd-59f0-4bdc-b64a-add791607f76",
   "metadata": {},
   "outputs": [
    {
     "name": "stdout",
     "output_type": "stream",
     "text": [
      "p-value (scipy): 1.0\n"
     ]
    }
   ],
   "source": [
    "#6-9%\n",
    "contingency_table_6_9 = [\n",
    "    [np.sum((POROSITY_6_9 == 1) & (S_WAVE_6_9 == 1)),\n",
    "      np.sum((POROSITY_6_9 == 1) & (S_WAVE_6_9 == 0))],\n",
    "    [np.sum((POROSITY_6_9 == 0) & ( S_WAVE_6_9== 1)),\n",
    "     np.sum(( POROSITY_6_9== 0) & (S_WAVE_6_9 == 0))]\n",
    "]\n",
    "\n",
    "#Fisher exact test\n",
    "odds_ratio, p_value = fisher_exact(contingency_table_6_9)\n",
    "odds_ratio, p_value\n",
    "print('p-value (scipy):',p_value)"
   ]
  },
  {
   "cell_type": "code",
   "execution_count": 206,
   "id": "f55438ad-bc5c-4a54-b059-c282546d1204",
   "metadata": {},
   "outputs": [
    {
     "name": "stdout",
     "output_type": "stream",
     "text": [
      "p-value (scipy): 1.0\n"
     ]
    }
   ],
   "source": [
    "#Above 9%\n",
    "contingency_table_above_9 = [\n",
    "    [np.sum((POROSITY_above_9 == 1) & (S_WAVE_above_9 == 1)),\n",
    "      np.sum((POROSITY_above_9 == 1) & (S_WAVE_above_9 == 0))],\n",
    "    [np.sum((POROSITY_above_9 == 0) & ( S_WAVE_above_9== 1)),\n",
    "     np.sum(( POROSITY_above_9== 0) & (S_WAVE_above_9 == 0))]\n",
    "]\n",
    "\n",
    "#Fisher exact test\n",
    "odds_ratio, p_value = fisher_exact(contingency_table_above_9)\n",
    "odds_ratio, p_value\n",
    "print('p-value (scipy):',p_value)"
   ]
  },
  {
   "cell_type": "code",
   "execution_count": 207,
   "id": "77e39d75-1c9e-49ab-945f-fb8f7c626017",
   "metadata": {},
   "outputs": [
    {
     "name": "stdout",
     "output_type": "stream",
     "text": [
      "p-value (scipy): 4.278588138413633e-05\n"
     ]
    }
   ],
   "source": [
    "# For all porosity ranges\n",
    "contingency_table_COMBINED = [\n",
    "    [np.sum((POROSITY_COMBINED == 1) & (S_WAVE_COMBINED == 1)),\n",
    "      np.sum((POROSITY_COMBINED == 1) & (S_WAVE_COMBINED == 0))],\n",
    "    [np.sum((POROSITY_COMBINED == 0) & ( S_WAVE_COMBINED== 1)),\n",
    "     np.sum(( POROSITY_COMBINED== 0) & (S_WAVE_COMBINED == 0))]\n",
    "]\n",
    "\n",
    "#Fisher exact test\n",
    "odds_ratio, p_value = fisher_exact(contingency_table_COMBINED)\n",
    "odds_ratio, p_value\n",
    "print('p-value (scipy):',p_value)"
   ]
  },
  {
   "cell_type": "code",
   "execution_count": null,
   "id": "d791d936-3629-451f-b9f6-52f71d1a0492",
   "metadata": {},
   "outputs": [],
   "source": []
  },
  {
   "cell_type": "code",
   "execution_count": null,
   "id": "17f6368b-948e-4fbc-b485-522b62f17527",
   "metadata": {},
   "outputs": [],
   "source": []
  },
  {
   "cell_type": "code",
   "execution_count": null,
   "id": "2ce4e883-8079-4039-900b-a262eb116ce8",
   "metadata": {},
   "outputs": [],
   "source": []
  }
 ],
 "metadata": {
  "kernelspec": {
   "display_name": "Python [conda env:base] *",
   "language": "python",
   "name": "conda-base-py"
  },
  "language_info": {
   "codemirror_mode": {
    "name": "ipython",
    "version": 3
   },
   "file_extension": ".py",
   "mimetype": "text/x-python",
   "name": "python",
   "nbconvert_exporter": "python",
   "pygments_lexer": "ipython3",
   "version": "3.12.7"
  }
 },
 "nbformat": 4,
 "nbformat_minor": 5
}
